{
 "cells": [
  {
   "cell_type": "code",
   "execution_count": 1,
   "id": "e20bca77",
   "metadata": {},
   "outputs": [],
   "source": [
    "import plotly.express as px\n",
    "import pandas as pd, os"
   ]
  },
  {
   "cell_type": "code",
   "execution_count": 2,
   "id": "2caf10d7-f8f7-4afe-80f5-0a483420b70d",
   "metadata": {},
   "outputs": [],
   "source": [
    "output_dir = \"output_dir/\""
   ]
  },
  {
   "cell_type": "code",
   "execution_count": 3,
   "id": "863b14b8-fa38-45b0-8c3e-fdc6bb97a6bd",
   "metadata": {},
   "outputs": [],
   "source": [
    "dry_lab_dir = \"dry_lab/\""
   ]
  },
  {
   "cell_type": "code",
   "execution_count": 4,
   "id": "2615e209-9d20-4ab0-8fea-564ded1fd387",
   "metadata": {},
   "outputs": [],
   "source": [
    "to_plot = pd.read_csv(os.path.join(dry_lab_dir, \"SciData_gt_demux.csv\"))"
   ]
  },
  {
   "cell_type": "code",
   "execution_count": 5,
   "id": "91abff62-8501-4852-8a18-6ea961fff4e9",
   "metadata": {},
   "outputs": [],
   "source": [
    "x_min = to_plot.loc[to_plot['cell_counts'] > 800, 'perc_het_consistent'].min()\n",
    "y_min = to_plot.loc[to_plot['cell_counts'] > 800, 'perc_hom_consistent'].min()"
   ]
  },
  {
   "cell_type": "code",
   "execution_count": null,
   "id": "b0e11c17-b2b1-403f-af1f-183b55e6d8b6",
   "metadata": {},
   "outputs": [],
   "source": [
    "to_plot['color'] = to_plot['color'].astype('str').astype('category')\n",
    "to_plot['color'] = to_plot['color'].map({'Expected Mismatch': 'Mismatch', 'Expected Match': 'Match', \n",
    "                                         'Removed Donor (gt issue)': 'Mismatch', 'Expected Match (QC fix)': 'Match',})"
   ]
  },
  {
   "cell_type": "code",
   "execution_count": null,
   "id": "fcb5bbdc-3cbc-43bb-ba78-27f1e3626b3b",
   "metadata": {},
   "outputs": [],
   "source": [
    "to_plot = to_plot.copy()\n",
    "to_plot = to_plot.loc[to_plot['cell_counts'] > 800, :]\n",
    "fig = px.scatter(\n",
    "    to_plot, x=\"perc_het_consistent\", y=\"perc_hom_consistent\", \n",
    "    color=\"color\", # symbol=\"rep\",\n",
    "    color_discrete_map = {'Mismatch': 'blue', \n",
    "                          'Match': 'green',\n",
    "                         },\n",
    "    hover_data=['pool_name', 'donor_name', 'SampleID'])\n",
    "\n",
    "fig.update(layout_yaxis_range = [y_min,1])\n",
    "fig.update(layout_xaxis_range = [x_min,1])\n",
    "fig.update_layout(\n",
    "    margin=dict(l=20, r=20, t=20, b=20),\n",
    "    paper_bgcolor=\"LightSteelBlue\",\n",
    "    minreducedwidth=1000,\n",
    "    minreducedheight=1300,\n",
    ")\n",
    "fig.update_layout(width=int(1300))\n",
    "\n",
    "# fig.write_image(os.path.join(output_dir, \"SciData_AMPPD_800minCells.pdf\"))\n",
    "fig.write_image(os.path.join(output_dir, \"SciData_fig4h.pdf\"))"
   ]
  }
 ],
 "metadata": {
  "kernelspec": {
   "display_name": "Python 3 (ipykernel)",
   "language": "python",
   "name": "python3"
  },
  "language_info": {
   "codemirror_mode": {
    "name": "ipython",
    "version": 3
   },
   "file_extension": ".py",
   "mimetype": "text/x-python",
   "name": "python",
   "nbconvert_exporter": "python",
   "pygments_lexer": "ipython3",
   "version": "3.8.8"
  }
 },
 "nbformat": 4,
 "nbformat_minor": 5
}
